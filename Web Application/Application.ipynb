{
 "cells": [
  {
   "cell_type": "code",
   "execution_count": 1,
   "metadata": {
    "id": "DpmyX1EC3zmc"
   },
   "outputs": [
    {
     "ename": "ModuleNotFoundError",
     "evalue": "No module named 'seaborn'",
     "output_type": "error",
     "traceback": [
      "\u001b[1;31m---------------------------------------------------------------------------\u001b[0m",
      "\u001b[1;31mModuleNotFoundError\u001b[0m                       Traceback (most recent call last)",
      "Cell \u001b[1;32mIn[1], line 5\u001b[0m\n\u001b[0;32m      3\u001b[0m \u001b[38;5;28;01mimport\u001b[39;00m \u001b[38;5;21;01mnumpy\u001b[39;00m \u001b[38;5;28;01mas\u001b[39;00m \u001b[38;5;21;01mnp\u001b[39;00m\n\u001b[0;32m      4\u001b[0m \u001b[38;5;28;01mimport\u001b[39;00m \u001b[38;5;21;01mmatplotlib\u001b[39;00m\u001b[38;5;21;01m.\u001b[39;00m\u001b[38;5;21;01mpyplot\u001b[39;00m \u001b[38;5;28;01mas\u001b[39;00m \u001b[38;5;21;01mplt\u001b[39;00m\n\u001b[1;32m----> 5\u001b[0m \u001b[38;5;28;01mimport\u001b[39;00m \u001b[38;5;21;01mseaborn\u001b[39;00m \u001b[38;5;28;01mas\u001b[39;00m \u001b[38;5;21;01msns\u001b[39;00m\n\u001b[0;32m      6\u001b[0m \u001b[38;5;28;01mfrom\u001b[39;00m \u001b[38;5;21;01msklearn\u001b[39;00m\u001b[38;5;21;01m.\u001b[39;00m\u001b[38;5;21;01mcompose\u001b[39;00m \u001b[38;5;28;01mimport\u001b[39;00m ColumnTransformer\n\u001b[0;32m      7\u001b[0m \u001b[38;5;28;01mfrom\u001b[39;00m \u001b[38;5;21;01msklearn\u001b[39;00m\u001b[38;5;21;01m.\u001b[39;00m\u001b[38;5;21;01mpipeline\u001b[39;00m \u001b[38;5;28;01mimport\u001b[39;00m Pipeline\n",
      "\u001b[1;31mModuleNotFoundError\u001b[0m: No module named 'seaborn'"
     ]
    }
   ],
   "source": [
    "# Import Libraries\n",
    "import pandas as pd\n",
    "import numpy as np\n",
    "import matplotlib.pyplot as plt\n",
    "import seaborn as sns\n",
    "from sklearn.compose import ColumnTransformer\n",
    "from sklearn.pipeline import Pipeline\n",
    "from sklearn.pipeline import make_pipeline\n",
    "from sklearn.impute import SimpleImputer\n",
    "from sklearn.preprocessing import OneHotEncoder\n",
    "from sklearn.preprocessing import StandardScaler\n",
    "from imblearn.over_sampling import SMOTE\n",
    "from sklearn.model_selection import train_test_split\n",
    "from xgboost import XGBClassifier\n",
    "from sklearn.model_selection import GridSearchCV\n",
    "from sklearn.metrics import accuracy_score\n",
    "from sklearn.metrics import f1_score\n",
    "from sklearn.metrics import recall_score\n",
    "from sklearn.metrics import precision_score\n",
    "from sklearn.metrics import confusion_matrix\n",
    "from sklearn.metrics import classification_report\n",
    "import pickle"
   ]
  },
  {
   "cell_type": "code",
   "execution_count": null,
   "metadata": {
    "colab": {
     "base_uri": "https://localhost:8080/"
    },
    "id": "I3dDUf1y4Hjz",
    "outputId": "0fd742b8-d895-4c46-b0d5-8b158035fb20"
   },
   "outputs": [],
   "source": [
    "# # connect to google drive\n",
    "# from google.colab import drive\n",
    "# drive.mount('/content/drive')"
   ]
  },
  {
   "cell_type": "code",
   "execution_count": null,
   "metadata": {
    "id": "L_Hm9Ra84J5C"
   },
   "outputs": [],
   "source": [
    "# Load Dataset\n",
    "data=pd.read_csv('data_email_campaign.csv')"
   ]
  },
  {
   "cell_type": "code",
   "execution_count": null,
   "metadata": {
    "id": "xOE8Ul1N4Mbe"
   },
   "outputs": [],
   "source": [
    "# drop Email_ID column\n",
    "data.drop('Email_ID',axis=1,inplace=True)"
   ]
  },
  {
   "cell_type": "code",
   "execution_count": null,
   "metadata": {
    "colab": {
     "base_uri": "https://localhost:8080/"
    },
    "id": "G0X85nQ2bqYG",
    "outputId": "30554114-9fdf-4337-e10b-545760efdab7"
   },
   "outputs": [],
   "source": [
    "data.info()"
   ]
  },
  {
   "cell_type": "code",
   "execution_count": null,
   "metadata": {
    "colab": {
     "base_uri": "https://localhost:8080/",
     "height": 424
    },
    "id": "kEA6GPUg4Y5O",
    "outputId": "cc626f39-c7d7-42c0-a137-22a7ebf777aa"
   },
   "outputs": [],
   "source": [
    "column_names=data.columns\n",
    "# Using SimpleImputer we impute null values with most_frequent value\n",
    "imp_most_frequent = SimpleImputer(missing_values=np.nan, strategy='most_frequent')\n",
    "# convert to dataframe\n",
    "data=pd.DataFrame(imp_most_frequent.fit_transform(data))\n",
    "data.columns=column_names\n",
    "data"
   ]
  },
  {
   "cell_type": "code",
   "execution_count": null,
   "metadata": {
    "id": "YfQmszyMiJFl"
   },
   "outputs": [],
   "source": [
    "data=data.convert_dtypes()"
   ]
  },
  {
   "cell_type": "code",
   "execution_count": null,
   "metadata": {
    "colab": {
     "base_uri": "https://localhost:8080/"
    },
    "id": "bW0V4smV4hbC",
    "outputId": "6bd19a0e-bb1e-4d44-f0e3-180a42b63962"
   },
   "outputs": [],
   "source": [
    "data.isnull().sum()"
   ]
  },
  {
   "cell_type": "code",
   "execution_count": null,
   "metadata": {
    "colab": {
     "base_uri": "https://localhost:8080/",
     "height": 1000
    },
    "id": "iDylQl_F5C4G",
    "outputId": "8e63fbeb-cde7-49de-9721-5c2331762122"
   },
   "outputs": [],
   "source": [
    "# visualize outliers\n",
    "for col in ['Subject_Hotness_Score', 'Total_Links','Total_Images']:\n",
    "  sns.boxplot(data[col])\n",
    "  plt.show()"
   ]
  },
  {
   "cell_type": "code",
   "execution_count": null,
   "metadata": {
    "id": "XGPS7X_K4jgx"
   },
   "outputs": [],
   "source": [
    "# remove outliers by the help of capping method\n",
    "for col in ['Subject_Hotness_Score', 'Total_Links','Total_Images']:\n",
    "  percentile25 = data[col].quantile(0.25)\n",
    "  percentile75 = data[col].quantile(0.75)\n",
    "  iqr = percentile75 - percentile25\n",
    "  upper_limit = percentile75 + 1.5 * iqr\n",
    "  lower_limit = percentile25 - 1.5 * iqr\n",
    "\n",
    "  data[col] = np.where(\n",
    "    data[col] > upper_limit,\n",
    "    upper_limit,\n",
    "    np.where(\n",
    "        data[col] < lower_limit,\n",
    "        lower_limit,\n",
    "        data[col]\n",
    "    )\n",
    "  )"
   ]
  },
  {
   "cell_type": "code",
   "execution_count": null,
   "metadata": {
    "colab": {
     "base_uri": "https://localhost:8080/",
     "height": 1000
    },
    "id": "Af7xPM5G4mRR",
    "outputId": "25f01f61-b3ab-476d-a67d-b9a533c52188"
   },
   "outputs": [],
   "source": [
    "# visualize outliers after removeing outliers\n",
    "for col in ['Subject_Hotness_Score', 'Total_Links','Total_Images']:\n",
    "  sns.boxplot(data[col])\n",
    "  plt.show()"
   ]
  },
  {
   "cell_type": "code",
   "execution_count": null,
   "metadata": {
    "id": "mczIFYCF4pwZ"
   },
   "outputs": [],
   "source": [
    "# Data split\n",
    "X=data.iloc[:,:-1]\n",
    "y=data.iloc[:,-1]"
   ]
  },
  {
   "cell_type": "code",
   "execution_count": null,
   "metadata": {
    "id": "ORhYbPVS4ptE"
   },
   "outputs": [],
   "source": [
    "X_train, X_test, y_train, y_test = train_test_split(X, y, test_size=0.2, random_state=42)"
   ]
  },
  {
   "cell_type": "code",
   "execution_count": null,
   "metadata": {
    "colab": {
     "base_uri": "https://localhost:8080/",
     "height": 424
    },
    "id": "lSk1l905rq5U",
    "outputId": "e84afede-eb3f-4d4a-8a8a-81e54fd76861"
   },
   "outputs": [],
   "source": [
    "X_train"
   ]
  },
  {
   "cell_type": "code",
   "execution_count": null,
   "metadata": {
    "id": "sLtgKgR04prC"
   },
   "outputs": [],
   "source": [
    "CT=ColumnTransformer([\n",
    "    ('tf1',OneHotEncoder(drop='first'),['Customer_Location']),\n",
    "    ('tf2',StandardScaler(),['Subject_Hotness_Score','Total_Past_Communications','Word_Count','Total_Links','Total_Images'])\n",
    "],remainder='passthrough')"
   ]
  },
  {
   "cell_type": "code",
   "execution_count": null,
   "metadata": {
    "colab": {
     "base_uri": "https://localhost:8080/",
     "height": 119
    },
    "id": "YluL6BCP4pnC",
    "outputId": "63fda917-f0c7-44e3-e643-fa4bbf27ad59"
   },
   "outputs": [],
   "source": [
    "CT.fit(X_train)"
   ]
  },
  {
   "cell_type": "code",
   "execution_count": null,
   "metadata": {
    "id": "_dSErgf14pk_"
   },
   "outputs": [],
   "source": [
    "X_train=CT.transform(X_train)\n",
    "X_test=CT.transform(X_test)"
   ]
  },
  {
   "cell_type": "code",
   "execution_count": null,
   "metadata": {
    "colab": {
     "base_uri": "https://localhost:8080/"
    },
    "id": "bjJGU2klr00r",
    "outputId": "c34d9d45-cddd-493b-a3f8-fea155b796ca"
   },
   "outputs": [],
   "source": [
    "X_train.shape"
   ]
  },
  {
   "cell_type": "code",
   "execution_count": null,
   "metadata": {
    "id": "NOyfwhIV50DY"
   },
   "outputs": [],
   "source": [
    "# balanced data\n",
    "st=SMOTE()"
   ]
  },
  {
   "cell_type": "code",
   "execution_count": null,
   "metadata": {
    "id": "t6LZvIdQ7MAQ"
   },
   "outputs": [],
   "source": [
    "X_train_smote, y_train_smote = st.fit_resample(X_train,y_train)"
   ]
  },
  {
   "cell_type": "code",
   "execution_count": null,
   "metadata": {
    "id": "KAIsDN9HZblD"
   },
   "outputs": [],
   "source": [
    "# create functions for metrics\n",
    "def print_metrics(y_te,y_pr):\n",
    "  print('Accuracy score:',accuracy_score(y_te,y_pr))\n",
    "  print('Precision score:',precision_score(y_te,y_pr,average='weighted'))\n",
    "  print('Recall score:',recall_score(y_te,y_pr,average='weighted'))\n",
    "  print('F1 score:',f1_score(y_te,y_pr,average='weighted'))\n",
    "  print('Confusion matrix:\\n',confusion_matrix(y_te,y_pr))\n",
    "  print('Classification report:\\n',classification_report(y_te,y_pr,target_names=['acknowledged', 'read', 'ignored']))\n",
    "\n",
    "def plot_confusion_matrix(y_te,y_pr):\n",
    "  sns.heatmap(confusion_matrix(y_te,y_pr),annot=True, fmt=\".0f\")\n",
    "  plt.title('Confusion Matrix')\n",
    "  plt.show()"
   ]
  },
  {
   "cell_type": "code",
   "execution_count": null,
   "metadata": {
    "colab": {
     "base_uri": "https://localhost:8080/",
     "height": 136
    },
    "id": "DHiZLiogA_QK",
    "outputId": "96e4dfcf-297d-4ba0-eda6-a1438eeb11c1"
   },
   "outputs": [],
   "source": [
    "# # ML Model - 3 Implementation with hyperparameter optimization techniques (i.e., GridSearch CV, RandomSearch CV, Bayesian Optimization etc.)\n",
    "\n",
    "# param_for_XGB={\n",
    "#         'min_child_weight': [0,1, 5],\n",
    "#         'gamma': [0.5, 1],\n",
    "#         'subsample': [0.5,0.6, 0.8],\n",
    "#         'colsample_bytree': [0.8,0.9],\n",
    "#         'max_depth': [5,6]\n",
    "#         }\n",
    "\n",
    "XGB_for_gc=XGBClassifier()\n",
    "gc_XGB=GridSearchCV(XGB_for_gc,{\n",
    "        'min_child_weight': [0,1, 5],\n",
    "        'gamma': [0.5, 1],\n",
    "        'subsample': [0.5,0.6, 0.8],\n",
    "        'colsample_bytree': [0.8,0.9],\n",
    "        'max_depth': [5,6]\n",
    "        },n_jobs=-1,verbose=2,cv=5)\n",
    "# Fit the Algorithm\n",
    "gc_XGB.fit(X_train_smote, y_train_smote)"
   ]
  },
  {
   "cell_type": "code",
   "execution_count": null,
   "metadata": {
    "colab": {
     "base_uri": "https://localhost:8080/"
    },
    "id": "ESVpV763A_OR",
    "outputId": "33a7391e-e9b9-4ec2-fd65-7a87594aae02"
   },
   "outputs": [],
   "source": [
    "# Predict on the model\n",
    "y_pred_for_gc_XGB=gc_XGB.predict(X_test)\n",
    "print_metrics(y_test,y_pred_for_gc_XGB)"
   ]
  },
  {
   "cell_type": "code",
   "execution_count": null,
   "metadata": {
    "colab": {
     "base_uri": "https://localhost:8080/"
    },
    "id": "dxUerXoLY9KO",
    "outputId": "79773441-5961-4f82-b9e6-4473841dfe83"
   },
   "outputs": [],
   "source": [
    "gc_XGB.best_params_"
   ]
  },
  {
   "cell_type": "code",
   "execution_count": null,
   "metadata": {
    "colab": {
     "base_uri": "https://localhost:8080/"
    },
    "id": "RhqRsc9djSE-",
    "outputId": "da85af38-97c6-4cda-9e41-fc0326a08c78"
   },
   "outputs": [],
   "source": [
    "# Predict on the model\n",
    "print_metrics(y_test,y_pred_for_gc_XGB)"
   ]
  },
  {
   "cell_type": "code",
   "execution_count": null,
   "metadata": {
    "colab": {
     "base_uri": "https://localhost:8080/",
     "height": 452
    },
    "id": "Cy7uVl_qjIqf",
    "outputId": "a7e344e0-e616-4390-8449-489f36cc9fff"
   },
   "outputs": [],
   "source": [
    "# Visualizing evaluation Metric Score chart\n",
    "plot_confusion_matrix(y_test,y_pred_for_gc_XGB)"
   ]
  },
  {
   "cell_type": "code",
   "execution_count": null,
   "metadata": {
    "id": "grJWLJxNiRsM"
   },
   "outputs": [],
   "source": [
    "pickle.dump(CT,open('CT.pickle','wb'))"
   ]
  },
  {
   "cell_type": "code",
   "execution_count": null,
   "metadata": {
    "id": "j1PG6fzoZAMR"
   },
   "outputs": [],
   "source": [
    "pickle.dump(gc_XGB,open('model.pickle','wb'))"
   ]
  }
 ],
 "metadata": {
  "colab": {
   "provenance": []
  },
  "kernelspec": {
   "display_name": "Python 3",
   "language": "python",
   "name": "python3"
  },
  "language_info": {
   "codemirror_mode": {
    "name": "ipython",
    "version": 3
   },
   "file_extension": ".py",
   "mimetype": "text/x-python",
   "name": "python",
   "nbconvert_exporter": "python",
   "pygments_lexer": "ipython3",
   "version": "3.11.4"
  }
 },
 "nbformat": 4,
 "nbformat_minor": 4
}
